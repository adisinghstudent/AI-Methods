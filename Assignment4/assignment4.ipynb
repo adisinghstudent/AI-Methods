{
 "cells": [
  {
   "cell_type": "markdown",
   "metadata": {},
   "source": [
    "# Assignment 4\n",
    "\n",
    "## 1.1 Which network(s) can accurately represent P(Flavor, Wrapper, Shape)?\n",
    "**Analyze whether each network captures all necessary dependencies between the variables to align with the given scenario.**\n",
    "\n",
    "Only 1 network properly represents the story, that is network (iii). This structure correctly models the relationship where the flavor influences the probabilities of both shape and wrapper. Since both shape and wrapper depend on flavor, the arrows should originate from flavor and point toward both shape and wrapper. Among the given Bayesian networks, only network (iii) correctly reflects this dependency.\n",
    "\n",
    "---\n",
    "\n",
    "## 1.2 Which network provides the best representation for this scenario?\n",
    "**Evaluate based on the compactness of the representation and how easily one can determine the necessary values in the conditional probability tables.**\n",
    "\n",
    "Since network (iii) is the only fully accurate representation, it is the best choice. The question seems to imply that both networks (i) and (iii) could be correct in part 1.1, but because the scenario states that shape and wrapper are determined by flavor, flavor must act as the parent node. Based on this reasoning, network (iii) best aligns with the given information.\n",
    "\n",
    "---\n",
    "\n",
    "## 1.3 Does network (i) imply that Wrapper is independent of Shape?\n",
    "\n",
    "Yes, because there is no direct connection between wrapper and shape, this statement holds true. In network (i), flavor is dependent on both wrapper and shape, but since there is no direct arrow linking wrapper and shape, there is no causal relationship between them.\n"
   ]
  },
  {
   "cell_type": "code",
   "execution_count": 4,
   "metadata": {},
   "outputs": [
    {
     "name": "stdout",
     "output_type": "stream",
     "text": [
      "Probability of a red wrapper: 0.59\n",
      "Probability that the candy is strawberry given it is red and round: 0.993\n",
      "Expected value of an unopened candy box: 0.85\n"
     ]
    }
   ],
   "source": [
    "import numpy as np\n",
    "\n",
    "# given probabilities\n",
    "P_strawberry = 0.7\n",
    "P_anchovy = 0.3\n",
    "P_red_given_strawberry = 0.8\n",
    "P_red_given_anchovy = 0.1\n",
    "\n",
    "# 1.4 probability of red wrapper\n",
    "P_red = (P_strawberry * P_red_given_strawberry) + (P_anchovy * P_red_given_anchovy)\n",
    "print(f\"probability of red wrapper: {P_red:.2f}\")\n",
    "\n",
    "# given probabilities for round shape\n",
    "P_round_given_strawberry = 0.8\n",
    "P_round_given_anchovy = 0.1\n",
    "\n",
    "# 1.5 probability of strawberry given red and round (bayes' theorem)\n",
    "P_red_round_given_strawberry = P_red_given_strawberry * P_round_given_strawberry\n",
    "P_red_round_given_anchovy = P_red_given_anchovy * P_round_given_anchovy\n",
    "P_red_round = (P_red_round_given_strawberry * P_strawberry) + (P_red_round_given_anchovy * P_anchovy)\n",
    "\n",
    "P_strawberry_given_red_round = (P_red_round_given_strawberry * P_strawberry) / P_red_round\n",
    "print(f\"probability of strawberry given red and round: {P_strawberry_given_red_round:.3f}\")\n",
    "\n",
    "# 1.6 expected value of unopened candy box\n",
    "s = 1  # value of strawberry candy\n",
    "a = 0.5  # value of anchovy candy\n",
    "\n",
    "EV = (P_strawberry * s) + (P_anchovy * a)\n",
    "print(f\"expected value of unopened candy box: {EV:.2f}\")\n"
   ]
  },
  {
   "cell_type": "markdown",
   "metadata": {},
   "source": [
    "# Task 2: Utility and Decision Making\n",
    "\n",
    "## 2.1 Choosing Between a Certain $500 or a Lottery\n",
    "Assume Mary has an **exponential utility function** with a risk tolerance of $500. She must choose between:\n",
    "- **Option A**: Receiving $500 with certainty.\n",
    "- **Option B**: A lottery with a **60% chance of winning $5000** and a **40% chance of winning $0**.\n",
    "\n",
    "To decide, we calculate the **expected utility** for both options using:\n",
    "\n",
    "\\[\n",
    "U(x) = -e^{-\\frac{x}{R}}\n",
    "\\]\n",
    "\n",
    "Since a rational agent maximizes **expected utility**, we compare:\n",
    "\n",
    "\\[\n",
    "EU(A) = U(500)\n",
    "\\]\n",
    "\n",
    "\\[\n",
    "EU(B) = 0.6 \\times U(5000) + 0.4 \\times U(0)\n",
    "\\]\n",
    "\n",
    "If \\( EU(A) > EU(B) \\), Mary picks the certain $500.\n"
   ]
  },
  {
   "cell_type": "markdown",
   "metadata": {},
   "source": []
  },
  {
   "cell_type": "code",
   "execution_count": 7,
   "metadata": {},
   "outputs": [
    {
     "name": "stdout",
     "output_type": "stream",
     "text": [
      "expected utility of option A: -0.368\n",
      "expected utility of option B: -0.400\n",
      "Mary should choose option A (certain $500).\n"
     ]
    }
   ],
   "source": [
    "import numpy as np\n",
    "\n",
    "# risk tolerance\n",
    "R = 500  \n",
    "\n",
    "# utility function\n",
    "U = lambda x: -np.exp(-x / R)\n",
    "\n",
    "# expected utility for option A (certain $500)\n",
    "EU_A = U(500)\n",
    "\n",
    "# expected utility for option B (60% $5000, 40% $0)\n",
    "EU_B = 0.6 * U(5000) + 0.4 * U(0)\n",
    "\n",
    "print(f\"expected utility of option A: {EU_A:.3f}\")\n",
    "print(f\"expected utility of option B: {EU_B:.3f}\")\n",
    "\n",
    "# decision based on expected utility\n",
    "if EU_A > EU_B:\n",
    "    print(\"Mary should choose option A (certain $500).\")\n",
    "else:\n",
    "    print(\"Mary should choose option B (lottery).\")\n"
   ]
  },
  {
   "cell_type": "markdown",
   "metadata": {},
   "source": [
    "## 2.2 Finding Risk Tolerance \\( R \\) for Indifference\n",
    "\n",
    "Now, we find the value of \\( R \\) that makes Mary indifferent between:\n",
    "- **Option 1**: A certain **$100**.\n",
    "- **Option 2**: A **50% chance of winning $500** and a **50% chance of winning $0**.\n",
    "\n",
    "We solve for \\( R \\) in:\n",
    "\n",
    "\\[\n",
    "U(100) = 0.5 \\times U(500) + 0.5 \\times U(0)\n",
    "\\]\n",
    "\n",
    "Using the **bisection method**, we approximate \\( R \\).\n"
   ]
  },
  {
   "cell_type": "code",
   "execution_count": 6,
   "metadata": {},
   "outputs": [
    {
     "name": "stdout",
     "output_type": "stream",
     "text": [
      "value of R that makes an individual indifferent: 152.380\n"
     ]
    }
   ],
   "source": [
    "from scipy.optimize import bisect\n",
    "\n",
    "# function to find R where EU(100) = 0.5 * EU(500) + 0.5 * EU(0)\n",
    "def utility_diff(R):\n",
    "    U_100 = -np.exp(-100 / R)\n",
    "    U_500 = -np.exp(-500 / R)\n",
    "    return U_100 - 0.5 * U_500 - 0.5 * (-1)\n",
    "\n",
    "# find R using bisection method\n",
    "R_value = bisect(utility_diff, 10, 500)\n",
    "\n",
    "print(f\"value of R that makes an individual indifferent: {R_value:.3f}\")\n"
   ]
  },
  {
   "cell_type": "code",
   "execution_count": null,
   "metadata": {},
   "outputs": [],
   "source": []
  }
 ],
 "metadata": {
  "kernelspec": {
   "display_name": "Python 3",
   "language": "python",
   "name": "python3"
  },
  "language_info": {
   "codemirror_mode": {
    "name": "ipython",
    "version": 3
   },
   "file_extension": ".py",
   "mimetype": "text/x-python",
   "name": "python",
   "nbconvert_exporter": "python",
   "pygments_lexer": "ipython3",
   "version": "3.10.16"
  }
 },
 "nbformat": 4,
 "nbformat_minor": 2
}
