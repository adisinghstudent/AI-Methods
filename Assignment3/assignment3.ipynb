{
 "cells": [
  {
   "cell_type": "code",
   "execution_count": 18,
   "metadata": {},
   "outputs": [
    {
     "name": "stdout",
     "output_type": "stream",
     "text": [
      "Hidden Markov Model (HMM) Representation\n",
      "\n",
      "states: ['Rain', 'no Rain']\n",
      "observations: ['Umbrella', 'no Umbrella']\n",
      "\n",
      "Transition Matrix P(X_t | X_t-1)\n",
      "[[0.7 0.3]\n",
      " [0.3 0.7]]\n",
      "\n",
      "Observations Matrix P(E_t | X_t)\n",
      "[[0.9 0.2]\n",
      " [0.1 0.8]]\n",
      "\n",
      "Initial State\n",
      "[0.5 0.5]\n"
     ]
    }
   ],
   "source": [
    "import numpy as np\n",
    "\n",
    "states = [\"Rain\", \"no Rain\"]\n",
    "\n",
    "observations = [\"Umbrella\", \"no Umbrella\"]\n",
    "\n",
    "#transition matrix P(X_t | X_t-1)\n",
    "transition_matrix = np.array ([\n",
    "    [0.7, 0.3],\n",
    "    [0.3, 0.7]\n",
    "])\n",
    "\n",
    "observations_matrix = np.array([\n",
    "    [0.9, 0.2],\n",
    "    [0.1, 0.8]\n",
    "])\n",
    "\n",
    "#initial state, assumed equal probability of Rain and no Rain\n",
    "initial_state = np.array([0.5, 0.5])\n",
    "\n",
    "print(\"Hidden Markov Model (HMM) Representation\\n\")\n",
    "print(f\"states: {states}\")\n",
    "print(f\"observations: {observations}\")\n",
    "\n",
    "print(\"\\nTransition Matrix P(X_t | X_t-1)\")\n",
    "print(transition_matrix)\n",
    "\n",
    "print(\"\\nObservations Matrix P(E_t | X_t)\")\n",
    "print(observations_matrix)\n",
    "\n",
    "print(\"\\nInitial State\")\n",
    "print(initial_state)\n",
    "\n",
    "\n"
   ]
  },
  {
   "cell_type": "code",
   "execution_count": 19,
   "metadata": {},
   "outputs": [],
   "source": [
    "observation_sequence = [0, 0, 1, 0, 0]  # {Umbrella, Umbrella, No Umbrella, Umbrella, Umbrella}"
   ]
  },
  {
   "cell_type": "code",
   "execution_count": 20,
   "metadata": {},
   "outputs": [
    {
     "name": "stdout",
     "output_type": "stream",
     "text": [
      "P(X_1 | e_1:1): [0.81818182 0.18181818]\n",
      "P(X_2 | e_1:2): [0.88335704 0.11664296]\n",
      "P(X_3 | e_1:3): [0.19066794 0.80933206]\n",
      "P(X_4 | e_1:4): [0.730794 0.269206]\n",
      "P(X_5 | e_1:5): [0.86733889 0.13266111]\n",
      "\n",
      "Probability of Rain at Day 2: 0.883 (Expected: 0.883)\n",
      "Probability of Rain at Day 5: 0.867\n"
     ]
    }
   ],
   "source": [
    "\n",
    "def forward_algorithm(observation_sequence, transition_matrix, observation_matrix, initial_state):\n",
    "    \"\"\"\n",
    "    Computes the forward probabilities f_t using the Forward Algorithm.\n",
    "    Returns a list of all normalized forward messages.\n",
    "    \"\"\"\n",
    "    num_states = len(initial_state)\n",
    "    num_observations = len(observation_sequence)\n",
    "\n",
    "    # store forward messages in the hashset\n",
    "    forward_messages = []\n",
    "\n",
    "    # initialize with prior belief and first observation\n",
    "    f_t = initial_state * observation_matrix[observation_sequence[0]]\n",
    "    f_t /= np.sum(f_t)  # Normalize\n",
    "    forward_messages.append(f_t.copy())\n",
    "\n",
    "    # recursive filtering for t >= 1\n",
    "    for t in range(1, num_observations):\n",
    "        f_t = observation_matrix[observation_sequence[t]] * (transition_matrix.T @ f_t)\n",
    "        f_t /= np.sum(f_t)  # Normalize\n",
    "        forward_messages.append(f_t.copy())\n",
    "\n",
    "    return forward_messages\n",
    "\n",
    "# run forward algorithm\n",
    "forward_messages = forward_algorithm(observation_sequence, transition_matrix, observations_matrix, initial_state)\n",
    "\n",
    "# display results\n",
    "for t, f_t in enumerate(forward_messages, start=1):\n",
    "    print(f\"P(X_{t} | e_1:{t}): {f_t}\")\n",
    "\n",
    "# extract and print final probability of rain at day 2 and 5\n",
    "p_rain_day_2 = forward_messages[1][0]  # P(Rain | e1:2)\n",
    "p_rain_day_5 = forward_messages[4][0]  # P(Rain | e1:5)\n",
    "\n",
    "print(f\"\\nProbability of Rain at Day 2: {p_rain_day_2:.3f} (Expected: 0.883)\")\n",
    "print(f\"Probability of Rain at Day 5: {p_rain_day_5:.3f}\")"
   ]
  },
  {
   "cell_type": "code",
   "execution_count": null,
   "metadata": {},
   "outputs": [],
   "source": []
  }
 ],
 "metadata": {
  "kernelspec": {
   "display_name": "ai-methods",
   "language": "python",
   "name": "python3"
  },
  "language_info": {
   "codemirror_mode": {
    "name": "ipython",
    "version": 3
   },
   "file_extension": ".py",
   "mimetype": "text/x-python",
   "name": "python",
   "nbconvert_exporter": "python",
   "pygments_lexer": "ipython3",
   "version": "3.10.16"
  }
 },
 "nbformat": 4,
 "nbformat_minor": 2
}
